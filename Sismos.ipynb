{
 "cells": [
  {
   "cell_type": "code",
   "execution_count": 1,
   "id": "a76ee45a",
   "metadata": {},
   "outputs": [],
   "source": [
    "d <- read.csv(file = \"~/Downloads/SSNMX_catalogo_19000101_20220924.csv\", header = TRUE, skip = 4)"
   ]
  },
  {
   "cell_type": "code",
   "execution_count": 2,
   "id": "20fe4997",
   "metadata": {},
   "outputs": [
    {
     "data": {
      "text/html": [
       "<table class=\"dataframe\">\n",
       "<caption>A data.frame: 6 × 10</caption>\n",
       "<thead>\n",
       "\t<tr><th></th><th scope=col>Fecha</th><th scope=col>Hora</th><th scope=col>Magnitud</th><th scope=col>Latitud</th><th scope=col>Longitud</th><th scope=col>Profundidad</th><th scope=col>Referencia.de.localizacion</th><th scope=col>Fecha.UTC</th><th scope=col>Hora.UTC</th><th scope=col>Estatus</th></tr>\n",
       "\t<tr><th></th><th scope=col>&lt;chr&gt;</th><th scope=col>&lt;chr&gt;</th><th scope=col>&lt;chr&gt;</th><th scope=col>&lt;dbl&gt;</th><th scope=col>&lt;dbl&gt;</th><th scope=col>&lt;chr&gt;</th><th scope=col>&lt;chr&gt;</th><th scope=col>&lt;chr&gt;</th><th scope=col>&lt;chr&gt;</th><th scope=col>&lt;chr&gt;</th></tr>\n",
       "</thead>\n",
       "<tbody>\n",
       "\t<tr><th scope=row>1</th><td>1900-01-20</td><td>00:33:30</td><td>7.4</td><td>20.00</td><td>-105.00</td><td>33.0</td><td>71 km al NOROESTE de AUTLAN DE NAVARRO, JAL</td><td>1900-01-20</td><td>06:33:30</td><td>revisado</td></tr>\n",
       "\t<tr><th scope=row>2</th><td>1900-05-16</td><td>14:12:00</td><td>6.9</td><td>20.00</td><td>-105.00</td><td>33.0</td><td>71 km al NOROESTE de AUTLAN DE NAVARRO, JAL</td><td>1900-05-16</td><td>20:12:00</td><td>revisado</td></tr>\n",
       "\t<tr><th scope=row>3</th><td>1901-03-05</td><td>04:45:00</td><td>6.9</td><td>25.00</td><td>-110.00</td><td>33.0</td><td>100 km al NORESTE de LA PAZ, BCS           </td><td>1901-03-05</td><td>10:45:00</td><td>revisado</td></tr>\n",
       "\t<tr><th scope=row>4</th><td>1901-12-08</td><td>20:17:00</td><td>7.0</td><td>26.00</td><td>-110.00</td><td>33.0</td><td>83 km al OESTE de AHOME, SIN               </td><td>1901-12-09</td><td>02:17:00</td><td>revisado</td></tr>\n",
       "\t<tr><th scope=row>5</th><td>1902-01-16</td><td>17:19:00</td><td>7.0</td><td>17.62</td><td> -99.72</td><td>33.0</td><td>21 km al OESTE de ZUMPANGO DEL RIO, GRO    </td><td>1902-01-16</td><td>23:19:00</td><td>revisado</td></tr>\n",
       "\t<tr><th scope=row>6</th><td>1902-04-18</td><td>20:23:00</td><td>7.5</td><td>14.90</td><td> -91.50</td><td>25.0</td><td>72 km al ESTE de CACAHOATAN, CHIS          </td><td>1902-04-19</td><td>02:23:00</td><td>revisado</td></tr>\n",
       "</tbody>\n",
       "</table>\n"
      ],
      "text/latex": [
       "A data.frame: 6 × 10\n",
       "\\begin{tabular}{r|llllllllll}\n",
       "  & Fecha & Hora & Magnitud & Latitud & Longitud & Profundidad & Referencia.de.localizacion & Fecha.UTC & Hora.UTC & Estatus\\\\\n",
       "  & <chr> & <chr> & <chr> & <dbl> & <dbl> & <chr> & <chr> & <chr> & <chr> & <chr>\\\\\n",
       "\\hline\n",
       "\t1 & 1900-01-20 & 00:33:30 & 7.4 & 20.00 & -105.00 & 33.0 & 71 km al NOROESTE de AUTLAN DE NAVARRO, JAL & 1900-01-20 & 06:33:30 & revisado\\\\\n",
       "\t2 & 1900-05-16 & 14:12:00 & 6.9 & 20.00 & -105.00 & 33.0 & 71 km al NOROESTE de AUTLAN DE NAVARRO, JAL & 1900-05-16 & 20:12:00 & revisado\\\\\n",
       "\t3 & 1901-03-05 & 04:45:00 & 6.9 & 25.00 & -110.00 & 33.0 & 100 km al NORESTE de LA PAZ, BCS            & 1901-03-05 & 10:45:00 & revisado\\\\\n",
       "\t4 & 1901-12-08 & 20:17:00 & 7.0 & 26.00 & -110.00 & 33.0 & 83 km al OESTE de AHOME, SIN                & 1901-12-09 & 02:17:00 & revisado\\\\\n",
       "\t5 & 1902-01-16 & 17:19:00 & 7.0 & 17.62 &  -99.72 & 33.0 & 21 km al OESTE de ZUMPANGO DEL RIO, GRO     & 1902-01-16 & 23:19:00 & revisado\\\\\n",
       "\t6 & 1902-04-18 & 20:23:00 & 7.5 & 14.90 &  -91.50 & 25.0 & 72 km al ESTE de CACAHOATAN, CHIS           & 1902-04-19 & 02:23:00 & revisado\\\\\n",
       "\\end{tabular}\n"
      ],
      "text/markdown": [
       "\n",
       "A data.frame: 6 × 10\n",
       "\n",
       "| <!--/--> | Fecha &lt;chr&gt; | Hora &lt;chr&gt; | Magnitud &lt;chr&gt; | Latitud &lt;dbl&gt; | Longitud &lt;dbl&gt; | Profundidad &lt;chr&gt; | Referencia.de.localizacion &lt;chr&gt; | Fecha.UTC &lt;chr&gt; | Hora.UTC &lt;chr&gt; | Estatus &lt;chr&gt; |\n",
       "|---|---|---|---|---|---|---|---|---|---|---|\n",
       "| 1 | 1900-01-20 | 00:33:30 | 7.4 | 20.00 | -105.00 | 33.0 | 71 km al NOROESTE de AUTLAN DE NAVARRO, JAL | 1900-01-20 | 06:33:30 | revisado |\n",
       "| 2 | 1900-05-16 | 14:12:00 | 6.9 | 20.00 | -105.00 | 33.0 | 71 km al NOROESTE de AUTLAN DE NAVARRO, JAL | 1900-05-16 | 20:12:00 | revisado |\n",
       "| 3 | 1901-03-05 | 04:45:00 | 6.9 | 25.00 | -110.00 | 33.0 | 100 km al NORESTE de LA PAZ, BCS            | 1901-03-05 | 10:45:00 | revisado |\n",
       "| 4 | 1901-12-08 | 20:17:00 | 7.0 | 26.00 | -110.00 | 33.0 | 83 km al OESTE de AHOME, SIN                | 1901-12-09 | 02:17:00 | revisado |\n",
       "| 5 | 1902-01-16 | 17:19:00 | 7.0 | 17.62 |  -99.72 | 33.0 | 21 km al OESTE de ZUMPANGO DEL RIO, GRO     | 1902-01-16 | 23:19:00 | revisado |\n",
       "| 6 | 1902-04-18 | 20:23:00 | 7.5 | 14.90 |  -91.50 | 25.0 | 72 km al ESTE de CACAHOATAN, CHIS           | 1902-04-19 | 02:23:00 | revisado |\n",
       "\n"
      ],
      "text/plain": [
       "  Fecha      Hora     Magnitud Latitud Longitud Profundidad\n",
       "1 1900-01-20 00:33:30 7.4      20.00   -105.00  33.0       \n",
       "2 1900-05-16 14:12:00 6.9      20.00   -105.00  33.0       \n",
       "3 1901-03-05 04:45:00 6.9      25.00   -110.00  33.0       \n",
       "4 1901-12-08 20:17:00 7.0      26.00   -110.00  33.0       \n",
       "5 1902-01-16 17:19:00 7.0      17.62    -99.72  33.0       \n",
       "6 1902-04-18 20:23:00 7.5      14.90    -91.50  25.0       \n",
       "  Referencia.de.localizacion                  Fecha.UTC  Hora.UTC Estatus \n",
       "1 71 km al NOROESTE de AUTLAN DE NAVARRO, JAL 1900-01-20 06:33:30 revisado\n",
       "2 71 km al NOROESTE de AUTLAN DE NAVARRO, JAL 1900-05-16 20:12:00 revisado\n",
       "3 100 km al NORESTE de LA PAZ, BCS            1901-03-05 10:45:00 revisado\n",
       "4 83 km al OESTE de AHOME, SIN                1901-12-09 02:17:00 revisado\n",
       "5 21 km al OESTE de ZUMPANGO DEL RIO, GRO     1902-01-16 23:19:00 revisado\n",
       "6 72 km al ESTE de CACAHOATAN, CHIS           1902-04-19 02:23:00 revisado"
      ]
     },
     "metadata": {},
     "output_type": "display_data"
    }
   ],
   "source": [
    "head(d)"
   ]
  },
  {
   "cell_type": "code",
   "execution_count": 3,
   "id": "9a925b27",
   "metadata": {},
   "outputs": [
    {
     "data": {
      "text/html": [
       "<table class=\"dataframe\">\n",
       "<caption>A data.frame: 8 × 10</caption>\n",
       "<thead>\n",
       "\t<tr><th></th><th scope=col>Fecha</th><th scope=col>Hora</th><th scope=col>Magnitud</th><th scope=col>Latitud</th><th scope=col>Longitud</th><th scope=col>Profundidad</th><th scope=col>Referencia.de.localizacion</th><th scope=col>Fecha.UTC</th><th scope=col>Hora.UTC</th><th scope=col>Estatus</th></tr>\n",
       "\t<tr><th></th><th scope=col>&lt;chr&gt;</th><th scope=col>&lt;chr&gt;</th><th scope=col>&lt;chr&gt;</th><th scope=col>&lt;dbl&gt;</th><th scope=col>&lt;dbl&gt;</th><th scope=col>&lt;chr&gt;</th><th scope=col>&lt;chr&gt;</th><th scope=col>&lt;chr&gt;</th><th scope=col>&lt;chr&gt;</th><th scope=col>&lt;chr&gt;</th></tr>\n",
       "</thead>\n",
       "<tbody>\n",
       "\t<tr><th scope=row>260896</th><td>2022-09-24                                                                                                                                                                                                     </td><td>17:19:37</td><td>4.0</td><td>15.51</td><td>-96.44</td><td>16.0</td><td>26 km al SUR de S PEDRO POCHUTLA, OAX </td><td>2022-09-24</td><td>22:19:37</td><td>verificado</td></tr>\n",
       "\t<tr><th scope=row>260897</th><td>Fecha y hora local en tiempo del centro de Mexico. Coordenadas geograficas (latitud y longitud) del epicentro en grados decimales. Profundidad en kilometros.                                                  </td><td>        </td><td>   </td><td>   NA</td><td>    NA</td><td>    </td><td>                                      </td><td>          </td><td>        </td><td>          </td></tr>\n",
       "\t<tr><th scope=row>260898</th><td>La localizacion es solo una referencia a una localidad importante en cuanto a numero de habitantes y cercana al epicentro.                                                                                     </td><td>        </td><td>   </td><td>   NA</td><td>    NA</td><td>    </td><td>                                      </td><td>          </td><td>        </td><td>          </td></tr>\n",
       "\t<tr><th scope=row>260899</th><td>Los registros con estatus verificado son los calculados y publicados de manera oportuna por al menos un analista de sismogramas.                                                                               </td><td>        </td><td>   </td><td>   NA</td><td>    NA</td><td>    </td><td>                                      </td><td>          </td><td>        </td><td>          </td></tr>\n",
       "\t<tr><th scope=row>260900</th><td>Los registros obtienen estatus revisado cuando se realiza un analisis, de ser posible, con mas y mejores datos para el calculo de parametros y cuyo tiempo de publicacion es variable.                         </td><td>        </td><td>   </td><td>   NA</td><td>    NA</td><td>    </td><td>                                      </td><td>          </td><td>        </td><td>          </td></tr>\n",
       "\t<tr><th scope=row>260901</th><td>Esta informacion puede ser reproducida con fines no lucrativos siempre y cuando se mencione como fuente al Servicio Sismologico Nacional. De otra forma, requiere permiso previo por escrito de la institucion.</td><td>        </td><td>   </td><td>   NA</td><td>    NA</td><td>    </td><td>                                      </td><td>          </td><td>        </td><td>          </td></tr>\n",
       "\t<tr><th scope=row>260902</th><td>Consulta nuestro Aviso Legal y Terminos de Uso en: www.ssn.unam.mx/aviso-legal                                                                                                                                 </td><td>        </td><td>   </td><td>   NA</td><td>    NA</td><td>    </td><td>                                      </td><td>          </td><td>        </td><td>          </td></tr>\n",
       "\t<tr><th scope=row>260903</th><td>www.ssn.unam.mx | contacto@sismologico.unam.mx | 5622 2222 ext. 38706 (reportes de sismicidad), 38700 y 38701 (area administrativa).                                                                           </td><td>        </td><td>   </td><td>   NA</td><td>    NA</td><td>    </td><td>                                      </td><td>          </td><td>        </td><td>          </td></tr>\n",
       "</tbody>\n",
       "</table>\n"
      ],
      "text/latex": [
       "A data.frame: 8 × 10\n",
       "\\begin{tabular}{r|llllllllll}\n",
       "  & Fecha & Hora & Magnitud & Latitud & Longitud & Profundidad & Referencia.de.localizacion & Fecha.UTC & Hora.UTC & Estatus\\\\\n",
       "  & <chr> & <chr> & <chr> & <dbl> & <dbl> & <chr> & <chr> & <chr> & <chr> & <chr>\\\\\n",
       "\\hline\n",
       "\t260896 & 2022-09-24                                                                                                                                                                                                      & 17:19:37 & 4.0 & 15.51 & -96.44 & 16.0 & 26 km al SUR de S PEDRO POCHUTLA, OAX  & 2022-09-24 & 22:19:37 & verificado\\\\\n",
       "\t260897 & Fecha y hora local en tiempo del centro de Mexico. Coordenadas geograficas (latitud y longitud) del epicentro en grados decimales. Profundidad en kilometros.                                                   &          &     &    NA &     NA &      &                                        &            &          &           \\\\\n",
       "\t260898 & La localizacion es solo una referencia a una localidad importante en cuanto a numero de habitantes y cercana al epicentro.                                                                                      &          &     &    NA &     NA &      &                                        &            &          &           \\\\\n",
       "\t260899 & Los registros con estatus verificado son los calculados y publicados de manera oportuna por al menos un analista de sismogramas.                                                                                &          &     &    NA &     NA &      &                                        &            &          &           \\\\\n",
       "\t260900 & Los registros obtienen estatus revisado cuando se realiza un analisis, de ser posible, con mas y mejores datos para el calculo de parametros y cuyo tiempo de publicacion es variable.                          &          &     &    NA &     NA &      &                                        &            &          &           \\\\\n",
       "\t260901 & Esta informacion puede ser reproducida con fines no lucrativos siempre y cuando se mencione como fuente al Servicio Sismologico Nacional. De otra forma, requiere permiso previo por escrito de la institucion. &          &     &    NA &     NA &      &                                        &            &          &           \\\\\n",
       "\t260902 & Consulta nuestro Aviso Legal y Terminos de Uso en: www.ssn.unam.mx/aviso-legal                                                                                                                                  &          &     &    NA &     NA &      &                                        &            &          &           \\\\\n",
       "\t260903 & www.ssn.unam.mx \\textbar{} contacto@sismologico.unam.mx \\textbar{} 5622 2222 ext. 38706 (reportes de sismicidad), 38700 y 38701 (area administrativa).                                                                            &          &     &    NA &     NA &      &                                        &            &          &           \\\\\n",
       "\\end{tabular}\n"
      ],
      "text/markdown": [
       "\n",
       "A data.frame: 8 × 10\n",
       "\n",
       "| <!--/--> | Fecha &lt;chr&gt; | Hora &lt;chr&gt; | Magnitud &lt;chr&gt; | Latitud &lt;dbl&gt; | Longitud &lt;dbl&gt; | Profundidad &lt;chr&gt; | Referencia.de.localizacion &lt;chr&gt; | Fecha.UTC &lt;chr&gt; | Hora.UTC &lt;chr&gt; | Estatus &lt;chr&gt; |\n",
       "|---|---|---|---|---|---|---|---|---|---|---|\n",
       "| 260896 | 2022-09-24                                                                                                                                                                                                      | 17:19:37 | 4.0 | 15.51 | -96.44 | 16.0 | 26 km al SUR de S PEDRO POCHUTLA, OAX  | 2022-09-24 | 22:19:37 | verificado |\n",
       "| 260897 | Fecha y hora local en tiempo del centro de Mexico. Coordenadas geograficas (latitud y longitud) del epicentro en grados decimales. Profundidad en kilometros.                                                   | <!----> | <!----> |    NA |     NA | <!----> | <!----> | <!----> | <!----> | <!----> |\n",
       "| 260898 | La localizacion es solo una referencia a una localidad importante en cuanto a numero de habitantes y cercana al epicentro.                                                                                      | <!----> | <!----> |    NA |     NA | <!----> | <!----> | <!----> | <!----> | <!----> |\n",
       "| 260899 | Los registros con estatus verificado son los calculados y publicados de manera oportuna por al menos un analista de sismogramas.                                                                                | <!----> | <!----> |    NA |     NA | <!----> | <!----> | <!----> | <!----> | <!----> |\n",
       "| 260900 | Los registros obtienen estatus revisado cuando se realiza un analisis, de ser posible, con mas y mejores datos para el calculo de parametros y cuyo tiempo de publicacion es variable.                          | <!----> | <!----> |    NA |     NA | <!----> | <!----> | <!----> | <!----> | <!----> |\n",
       "| 260901 | Esta informacion puede ser reproducida con fines no lucrativos siempre y cuando se mencione como fuente al Servicio Sismologico Nacional. De otra forma, requiere permiso previo por escrito de la institucion. | <!----> | <!----> |    NA |     NA | <!----> | <!----> | <!----> | <!----> | <!----> |\n",
       "| 260902 | Consulta nuestro Aviso Legal y Terminos de Uso en: www.ssn.unam.mx/aviso-legal                                                                                                                                  | <!----> | <!----> |    NA |     NA | <!----> | <!----> | <!----> | <!----> | <!----> |\n",
       "| 260903 | www.ssn.unam.mx | contacto@sismologico.unam.mx | 5622 2222 ext. 38706 (reportes de sismicidad), 38700 y 38701 (area administrativa).                                                                            | <!----> | <!----> |    NA |     NA | <!----> | <!----> | <!----> | <!----> | <!----> |\n",
       "\n"
      ],
      "text/plain": [
       "       Fecha                                                                                                                                                                                                          \n",
       "260896 2022-09-24                                                                                                                                                                                                     \n",
       "260897 Fecha y hora local en tiempo del centro de Mexico. Coordenadas geograficas (latitud y longitud) del epicentro en grados decimales. Profundidad en kilometros.                                                  \n",
       "260898 La localizacion es solo una referencia a una localidad importante en cuanto a numero de habitantes y cercana al epicentro.                                                                                     \n",
       "260899 Los registros con estatus verificado son los calculados y publicados de manera oportuna por al menos un analista de sismogramas.                                                                               \n",
       "260900 Los registros obtienen estatus revisado cuando se realiza un analisis, de ser posible, con mas y mejores datos para el calculo de parametros y cuyo tiempo de publicacion es variable.                         \n",
       "260901 Esta informacion puede ser reproducida con fines no lucrativos siempre y cuando se mencione como fuente al Servicio Sismologico Nacional. De otra forma, requiere permiso previo por escrito de la institucion.\n",
       "260902 Consulta nuestro Aviso Legal y Terminos de Uso en: www.ssn.unam.mx/aviso-legal                                                                                                                                 \n",
       "260903 www.ssn.unam.mx | contacto@sismologico.unam.mx | 5622 2222 ext. 38706 (reportes de sismicidad), 38700 y 38701 (area administrativa).                                                                           \n",
       "       Hora     Magnitud Latitud Longitud Profundidad\n",
       "260896 17:19:37 4.0      15.51   -96.44   16.0       \n",
       "260897                      NA       NA              \n",
       "260898                      NA       NA              \n",
       "260899                      NA       NA              \n",
       "260900                      NA       NA              \n",
       "260901                      NA       NA              \n",
       "260902                      NA       NA              \n",
       "260903                      NA       NA              \n",
       "       Referencia.de.localizacion             Fecha.UTC  Hora.UTC Estatus   \n",
       "260896 26 km al SUR de S PEDRO POCHUTLA, OAX  2022-09-24 22:19:37 verificado\n",
       "260897                                                                      \n",
       "260898                                                                      \n",
       "260899                                                                      \n",
       "260900                                                                      \n",
       "260901                                                                      \n",
       "260902                                                                      \n",
       "260903                                                                      "
      ]
     },
     "metadata": {},
     "output_type": "display_data"
    }
   ],
   "source": [
    "tail(d,n = 8)"
   ]
  },
  {
   "cell_type": "code",
   "execution_count": 4,
   "id": "ceee8ca9",
   "metadata": {},
   "outputs": [
    {
     "data": {
      "text/html": [
       "<style>\n",
       ".list-inline {list-style: none; margin:0; padding: 0}\n",
       ".list-inline>li {display: inline-block}\n",
       ".list-inline>li:not(:last-child)::after {content: \"\\00b7\"; padding: 0 .5ex}\n",
       "</style>\n",
       "<ol class=list-inline><li>260903</li><li>10</li></ol>\n"
      ],
      "text/latex": [
       "\\begin{enumerate*}\n",
       "\\item 260903\n",
       "\\item 10\n",
       "\\end{enumerate*}\n"
      ],
      "text/markdown": [
       "1. 260903\n",
       "2. 10\n",
       "\n",
       "\n"
      ],
      "text/plain": [
       "[1] 260903     10"
      ]
     },
     "metadata": {},
     "output_type": "display_data"
    }
   ],
   "source": [
    "dim(d)"
   ]
  },
  {
   "cell_type": "code",
   "execution_count": 5,
   "id": "9d63b098",
   "metadata": {},
   "outputs": [],
   "source": [
    "d <- d[1:(dim(d)[1]-7),]"
   ]
  },
  {
   "cell_type": "code",
   "execution_count": 6,
   "id": "c1f8a2cc",
   "metadata": {},
   "outputs": [
    {
     "data": {
      "text/html": [
       "<table class=\"dataframe\">\n",
       "<caption>A data.frame: 10 × 10</caption>\n",
       "<thead>\n",
       "\t<tr><th></th><th scope=col>Fecha</th><th scope=col>Hora</th><th scope=col>Magnitud</th><th scope=col>Latitud</th><th scope=col>Longitud</th><th scope=col>Profundidad</th><th scope=col>Referencia.de.localizacion</th><th scope=col>Fecha.UTC</th><th scope=col>Hora.UTC</th><th scope=col>Estatus</th></tr>\n",
       "\t<tr><th></th><th scope=col>&lt;chr&gt;</th><th scope=col>&lt;chr&gt;</th><th scope=col>&lt;chr&gt;</th><th scope=col>&lt;dbl&gt;</th><th scope=col>&lt;dbl&gt;</th><th scope=col>&lt;chr&gt;</th><th scope=col>&lt;chr&gt;</th><th scope=col>&lt;chr&gt;</th><th scope=col>&lt;chr&gt;</th><th scope=col>&lt;chr&gt;</th></tr>\n",
       "</thead>\n",
       "<tbody>\n",
       "\t<tr><th scope=row>260887</th><td>2022-09-24</td><td>04:18:56</td><td>3.6</td><td>18.13</td><td>-103.15</td><td>6.0  </td><td>72 km al SUR de COALCOMAN, MICH             </td><td>2022-09-24</td><td>09:18:56</td><td>verificado</td></tr>\n",
       "\t<tr><th scope=row>260888</th><td>2022-09-24</td><td>04:31:12</td><td>3.3</td><td>18.08</td><td>-103.38</td><td>7.0  </td><td>80 km al SUROESTE de COALCOMAN, MICH        </td><td>2022-09-24</td><td>09:31:12</td><td>verificado</td></tr>\n",
       "\t<tr><th scope=row>260889</th><td>2022-09-24</td><td>04:37:03</td><td>3.7</td><td>18.09</td><td>-103.23</td><td>5.0  </td><td>77 km al SUR de COALCOMAN, MICH             </td><td>2022-09-24</td><td>09:37:03</td><td>verificado</td></tr>\n",
       "\t<tr><th scope=row>260890</th><td>2022-09-24</td><td>04:44:22</td><td>3.3</td><td>16.26</td><td> -98.23</td><td>14.0 </td><td>21 km al SUROESTE de PINOTEPA NACIONAL, OAX </td><td>2022-09-24</td><td>09:44:22</td><td>verificado</td></tr>\n",
       "\t<tr><th scope=row>260891</th><td>2022-09-24</td><td>04:56:38</td><td>3.4</td><td>18.14</td><td>-103.34</td><td>23.0 </td><td>73 km al SUR de COALCOMAN, MICH             </td><td>2022-09-24</td><td>09:56:38</td><td>verificado</td></tr>\n",
       "\t<tr><th scope=row>260892</th><td>2022-09-24</td><td>05:05:47</td><td>4.5</td><td>18.10</td><td>-103.34</td><td>9.0  </td><td>77 km al SUR de COALCOMAN, MICH             </td><td>2022-09-24</td><td>10:05:47</td><td>verificado</td></tr>\n",
       "\t<tr><th scope=row>260893</th><td>2022-09-24</td><td>06:00:42</td><td>4.0</td><td>18.08</td><td>-103.48</td><td>10.0 </td><td>84 km al SUROESTE de COALCOMAN, MICH        </td><td>2022-09-24</td><td>11:00:42</td><td>verificado</td></tr>\n",
       "\t<tr><th scope=row>260894</th><td>2022-09-24</td><td>06:06:58</td><td>4.1</td><td>17.52</td><td> -94.99</td><td>127.0</td><td>40 km al SUR de SAYULA DE ALEMAN, VER       </td><td>2022-09-24</td><td>11:06:58</td><td>verificado</td></tr>\n",
       "\t<tr><th scope=row>260895</th><td>2022-09-24</td><td>10:27:18</td><td>4.9</td><td>16.87</td><td> -99.35</td><td>27.0 </td><td>10 km al NORESTE de SAN MARCOS, GRO         </td><td>2022-09-24</td><td>15:27:18</td><td>verificado</td></tr>\n",
       "\t<tr><th scope=row>260896</th><td>2022-09-24</td><td>17:19:37</td><td>4.0</td><td>15.51</td><td> -96.44</td><td>16.0 </td><td>26 km al SUR de S PEDRO POCHUTLA, OAX       </td><td>2022-09-24</td><td>22:19:37</td><td>verificado</td></tr>\n",
       "</tbody>\n",
       "</table>\n"
      ],
      "text/latex": [
       "A data.frame: 10 × 10\n",
       "\\begin{tabular}{r|llllllllll}\n",
       "  & Fecha & Hora & Magnitud & Latitud & Longitud & Profundidad & Referencia.de.localizacion & Fecha.UTC & Hora.UTC & Estatus\\\\\n",
       "  & <chr> & <chr> & <chr> & <dbl> & <dbl> & <chr> & <chr> & <chr> & <chr> & <chr>\\\\\n",
       "\\hline\n",
       "\t260887 & 2022-09-24 & 04:18:56 & 3.6 & 18.13 & -103.15 & 6.0   & 72 km al SUR de COALCOMAN, MICH              & 2022-09-24 & 09:18:56 & verificado\\\\\n",
       "\t260888 & 2022-09-24 & 04:31:12 & 3.3 & 18.08 & -103.38 & 7.0   & 80 km al SUROESTE de COALCOMAN, MICH         & 2022-09-24 & 09:31:12 & verificado\\\\\n",
       "\t260889 & 2022-09-24 & 04:37:03 & 3.7 & 18.09 & -103.23 & 5.0   & 77 km al SUR de COALCOMAN, MICH              & 2022-09-24 & 09:37:03 & verificado\\\\\n",
       "\t260890 & 2022-09-24 & 04:44:22 & 3.3 & 16.26 &  -98.23 & 14.0  & 21 km al SUROESTE de PINOTEPA NACIONAL, OAX  & 2022-09-24 & 09:44:22 & verificado\\\\\n",
       "\t260891 & 2022-09-24 & 04:56:38 & 3.4 & 18.14 & -103.34 & 23.0  & 73 km al SUR de COALCOMAN, MICH              & 2022-09-24 & 09:56:38 & verificado\\\\\n",
       "\t260892 & 2022-09-24 & 05:05:47 & 4.5 & 18.10 & -103.34 & 9.0   & 77 km al SUR de COALCOMAN, MICH              & 2022-09-24 & 10:05:47 & verificado\\\\\n",
       "\t260893 & 2022-09-24 & 06:00:42 & 4.0 & 18.08 & -103.48 & 10.0  & 84 km al SUROESTE de COALCOMAN, MICH         & 2022-09-24 & 11:00:42 & verificado\\\\\n",
       "\t260894 & 2022-09-24 & 06:06:58 & 4.1 & 17.52 &  -94.99 & 127.0 & 40 km al SUR de SAYULA DE ALEMAN, VER        & 2022-09-24 & 11:06:58 & verificado\\\\\n",
       "\t260895 & 2022-09-24 & 10:27:18 & 4.9 & 16.87 &  -99.35 & 27.0  & 10 km al NORESTE de SAN MARCOS, GRO          & 2022-09-24 & 15:27:18 & verificado\\\\\n",
       "\t260896 & 2022-09-24 & 17:19:37 & 4.0 & 15.51 &  -96.44 & 16.0  & 26 km al SUR de S PEDRO POCHUTLA, OAX        & 2022-09-24 & 22:19:37 & verificado\\\\\n",
       "\\end{tabular}\n"
      ],
      "text/markdown": [
       "\n",
       "A data.frame: 10 × 10\n",
       "\n",
       "| <!--/--> | Fecha &lt;chr&gt; | Hora &lt;chr&gt; | Magnitud &lt;chr&gt; | Latitud &lt;dbl&gt; | Longitud &lt;dbl&gt; | Profundidad &lt;chr&gt; | Referencia.de.localizacion &lt;chr&gt; | Fecha.UTC &lt;chr&gt; | Hora.UTC &lt;chr&gt; | Estatus &lt;chr&gt; |\n",
       "|---|---|---|---|---|---|---|---|---|---|---|\n",
       "| 260887 | 2022-09-24 | 04:18:56 | 3.6 | 18.13 | -103.15 | 6.0   | 72 km al SUR de COALCOMAN, MICH              | 2022-09-24 | 09:18:56 | verificado |\n",
       "| 260888 | 2022-09-24 | 04:31:12 | 3.3 | 18.08 | -103.38 | 7.0   | 80 km al SUROESTE de COALCOMAN, MICH         | 2022-09-24 | 09:31:12 | verificado |\n",
       "| 260889 | 2022-09-24 | 04:37:03 | 3.7 | 18.09 | -103.23 | 5.0   | 77 km al SUR de COALCOMAN, MICH              | 2022-09-24 | 09:37:03 | verificado |\n",
       "| 260890 | 2022-09-24 | 04:44:22 | 3.3 | 16.26 |  -98.23 | 14.0  | 21 km al SUROESTE de PINOTEPA NACIONAL, OAX  | 2022-09-24 | 09:44:22 | verificado |\n",
       "| 260891 | 2022-09-24 | 04:56:38 | 3.4 | 18.14 | -103.34 | 23.0  | 73 km al SUR de COALCOMAN, MICH              | 2022-09-24 | 09:56:38 | verificado |\n",
       "| 260892 | 2022-09-24 | 05:05:47 | 4.5 | 18.10 | -103.34 | 9.0   | 77 km al SUR de COALCOMAN, MICH              | 2022-09-24 | 10:05:47 | verificado |\n",
       "| 260893 | 2022-09-24 | 06:00:42 | 4.0 | 18.08 | -103.48 | 10.0  | 84 km al SUROESTE de COALCOMAN, MICH         | 2022-09-24 | 11:00:42 | verificado |\n",
       "| 260894 | 2022-09-24 | 06:06:58 | 4.1 | 17.52 |  -94.99 | 127.0 | 40 km al SUR de SAYULA DE ALEMAN, VER        | 2022-09-24 | 11:06:58 | verificado |\n",
       "| 260895 | 2022-09-24 | 10:27:18 | 4.9 | 16.87 |  -99.35 | 27.0  | 10 km al NORESTE de SAN MARCOS, GRO          | 2022-09-24 | 15:27:18 | verificado |\n",
       "| 260896 | 2022-09-24 | 17:19:37 | 4.0 | 15.51 |  -96.44 | 16.0  | 26 km al SUR de S PEDRO POCHUTLA, OAX        | 2022-09-24 | 22:19:37 | verificado |\n",
       "\n"
      ],
      "text/plain": [
       "       Fecha      Hora     Magnitud Latitud Longitud Profundidad\n",
       "260887 2022-09-24 04:18:56 3.6      18.13   -103.15  6.0        \n",
       "260888 2022-09-24 04:31:12 3.3      18.08   -103.38  7.0        \n",
       "260889 2022-09-24 04:37:03 3.7      18.09   -103.23  5.0        \n",
       "260890 2022-09-24 04:44:22 3.3      16.26    -98.23  14.0       \n",
       "260891 2022-09-24 04:56:38 3.4      18.14   -103.34  23.0       \n",
       "260892 2022-09-24 05:05:47 4.5      18.10   -103.34  9.0        \n",
       "260893 2022-09-24 06:00:42 4.0      18.08   -103.48  10.0       \n",
       "260894 2022-09-24 06:06:58 4.1      17.52    -94.99  127.0      \n",
       "260895 2022-09-24 10:27:18 4.9      16.87    -99.35  27.0       \n",
       "260896 2022-09-24 17:19:37 4.0      15.51    -96.44  16.0       \n",
       "       Referencia.de.localizacion                   Fecha.UTC  Hora.UTC\n",
       "260887 72 km al SUR de COALCOMAN, MICH              2022-09-24 09:18:56\n",
       "260888 80 km al SUROESTE de COALCOMAN, MICH         2022-09-24 09:31:12\n",
       "260889 77 km al SUR de COALCOMAN, MICH              2022-09-24 09:37:03\n",
       "260890 21 km al SUROESTE de PINOTEPA NACIONAL, OAX  2022-09-24 09:44:22\n",
       "260891 73 km al SUR de COALCOMAN, MICH              2022-09-24 09:56:38\n",
       "260892 77 km al SUR de COALCOMAN, MICH              2022-09-24 10:05:47\n",
       "260893 84 km al SUROESTE de COALCOMAN, MICH         2022-09-24 11:00:42\n",
       "260894 40 km al SUR de SAYULA DE ALEMAN, VER        2022-09-24 11:06:58\n",
       "260895 10 km al NORESTE de SAN MARCOS, GRO          2022-09-24 15:27:18\n",
       "260896 26 km al SUR de S PEDRO POCHUTLA, OAX        2022-09-24 22:19:37\n",
       "       Estatus   \n",
       "260887 verificado\n",
       "260888 verificado\n",
       "260889 verificado\n",
       "260890 verificado\n",
       "260891 verificado\n",
       "260892 verificado\n",
       "260893 verificado\n",
       "260894 verificado\n",
       "260895 verificado\n",
       "260896 verificado"
      ]
     },
     "metadata": {},
     "output_type": "display_data"
    }
   ],
   "source": [
    "tail(d, n=10)"
   ]
  },
  {
   "cell_type": "code",
   "execution_count": 7,
   "id": "66be1a66",
   "metadata": {},
   "outputs": [
    {
     "data": {
      "text/html": [
       "01\n",
       "<details>\n",
       "\t<summary style=display:list-item;cursor:pointer>\n",
       "\t\t<strong>Levels</strong>:\n",
       "\t</summary>\n",
       "\t'01'\n",
       "</details>"
      ],
      "text/latex": [
       "01\n",
       "\\emph{Levels}: '01'"
      ],
      "text/markdown": [
       "01\n",
       "**Levels**: '01'"
      ],
      "text/plain": [
       "[1] 01\n",
       "Levels: 01"
      ]
     },
     "metadata": {},
     "output_type": "display_data"
    }
   ],
   "source": [
    "as.factor(gsub(\" \",\"\", strsplit(x = d[1,1],split = \"-\")[[1]][2]))"
   ]
  },
  {
   "cell_type": "code",
   "execution_count": 50,
   "id": "3d28bd86",
   "metadata": {},
   "outputs": [],
   "source": [
    "extraeMes <- function(x){ \n",
    "    as.numeric(gsub(\" \",\"\", strsplit(x,split = \"-\")[[1]][2]))\n",
    "}"
   ]
  },
  {
   "cell_type": "code",
   "execution_count": 51,
   "id": "56d627d0",
   "metadata": {},
   "outputs": [
    {
     "data": {
      "text/html": [
       "6"
      ],
      "text/latex": [
       "6"
      ],
      "text/markdown": [
       "6"
      ],
      "text/plain": [
       "[1] 6"
      ]
     },
     "metadata": {},
     "output_type": "display_data"
    }
   ],
   "source": [
    "extraeMes(d[55,1])"
   ]
  },
  {
   "cell_type": "code",
   "execution_count": 52,
   "id": "717632ae",
   "metadata": {},
   "outputs": [],
   "source": [
    "extraeAgno <- function(x){ \n",
    "    as.numeric(gsub(\" \",\"\", strsplit(x,split = \"-\")[[1]][1]))\n",
    "}"
   ]
  },
  {
   "cell_type": "code",
   "execution_count": 53,
   "id": "2ffd2278",
   "metadata": {},
   "outputs": [
    {
     "data": {
      "text/html": [
       "1932"
      ],
      "text/latex": [
       "1932"
      ],
      "text/markdown": [
       "1932"
      ],
      "text/plain": [
       "[1] 1932"
      ]
     },
     "metadata": {},
     "output_type": "display_data"
    }
   ],
   "source": [
    "extraeAgno(d[55,1])"
   ]
  },
  {
   "cell_type": "code",
   "execution_count": 54,
   "id": "0b196c60",
   "metadata": {},
   "outputs": [],
   "source": [
    "d[,\"MES\"] <- sapply(d[,1],FUN = extraeMes, simplify = TRUE)"
   ]
  },
  {
   "cell_type": "code",
   "execution_count": 55,
   "id": "bc4bea56",
   "metadata": {},
   "outputs": [],
   "source": [
    "d[,\"AGNO\"] <- sapply(d[,1],FUN = extraeAgno, simplify = TRUE)"
   ]
  },
  {
   "cell_type": "code",
   "execution_count": 56,
   "id": "4f3fd840",
   "metadata": {},
   "outputs": [
    {
     "data": {
      "text/html": [
       "<table class=\"dataframe\">\n",
       "<caption>A data.frame: 6 × 13</caption>\n",
       "<thead>\n",
       "\t<tr><th></th><th scope=col>Fecha</th><th scope=col>Hora</th><th scope=col>Magnitud</th><th scope=col>Latitud</th><th scope=col>Longitud</th><th scope=col>Profundidad</th><th scope=col>Referencia.de.localizacion</th><th scope=col>Fecha.UTC</th><th scope=col>Hora.UTC</th><th scope=col>Estatus</th><th scope=col>MES</th><th scope=col>AGNO</th><th scope=col>dummy</th></tr>\n",
       "\t<tr><th></th><th scope=col>&lt;chr&gt;</th><th scope=col>&lt;chr&gt;</th><th scope=col>&lt;dbl&gt;</th><th scope=col>&lt;dbl&gt;</th><th scope=col>&lt;dbl&gt;</th><th scope=col>&lt;chr&gt;</th><th scope=col>&lt;chr&gt;</th><th scope=col>&lt;chr&gt;</th><th scope=col>&lt;chr&gt;</th><th scope=col>&lt;chr&gt;</th><th scope=col>&lt;dbl&gt;</th><th scope=col>&lt;dbl&gt;</th><th scope=col>&lt;dbl&gt;</th></tr>\n",
       "</thead>\n",
       "<tbody>\n",
       "\t<tr><th scope=row>1</th><td>1900-01-20</td><td>00:33:30</td><td>7.4</td><td>20.00</td><td>-105.00</td><td>33.0</td><td>71 km al NOROESTE de AUTLAN DE NAVARRO, JAL</td><td>1900-01-20</td><td>06:33:30</td><td>revisado</td><td> 1</td><td>1900</td><td>1</td></tr>\n",
       "\t<tr><th scope=row>2</th><td>1900-05-16</td><td>14:12:00</td><td>6.9</td><td>20.00</td><td>-105.00</td><td>33.0</td><td>71 km al NOROESTE de AUTLAN DE NAVARRO, JAL</td><td>1900-05-16</td><td>20:12:00</td><td>revisado</td><td> 5</td><td>1900</td><td>1</td></tr>\n",
       "\t<tr><th scope=row>3</th><td>1901-03-05</td><td>04:45:00</td><td>6.9</td><td>25.00</td><td>-110.00</td><td>33.0</td><td>100 km al NORESTE de LA PAZ, BCS           </td><td>1901-03-05</td><td>10:45:00</td><td>revisado</td><td> 3</td><td>1901</td><td>1</td></tr>\n",
       "\t<tr><th scope=row>4</th><td>1901-12-08</td><td>20:17:00</td><td>7.0</td><td>26.00</td><td>-110.00</td><td>33.0</td><td>83 km al OESTE de AHOME, SIN               </td><td>1901-12-09</td><td>02:17:00</td><td>revisado</td><td>12</td><td>1901</td><td>1</td></tr>\n",
       "\t<tr><th scope=row>5</th><td>1902-01-16</td><td>17:19:00</td><td>7.0</td><td>17.62</td><td> -99.72</td><td>33.0</td><td>21 km al OESTE de ZUMPANGO DEL RIO, GRO    </td><td>1902-01-16</td><td>23:19:00</td><td>revisado</td><td> 1</td><td>1902</td><td>1</td></tr>\n",
       "\t<tr><th scope=row>6</th><td>1902-04-18</td><td>20:23:00</td><td>7.5</td><td>14.90</td><td> -91.50</td><td>25.0</td><td>72 km al ESTE de CACAHOATAN, CHIS          </td><td>1902-04-19</td><td>02:23:00</td><td>revisado</td><td> 4</td><td>1902</td><td>1</td></tr>\n",
       "</tbody>\n",
       "</table>\n"
      ],
      "text/latex": [
       "A data.frame: 6 × 13\n",
       "\\begin{tabular}{r|lllllllllllll}\n",
       "  & Fecha & Hora & Magnitud & Latitud & Longitud & Profundidad & Referencia.de.localizacion & Fecha.UTC & Hora.UTC & Estatus & MES & AGNO & dummy\\\\\n",
       "  & <chr> & <chr> & <dbl> & <dbl> & <dbl> & <chr> & <chr> & <chr> & <chr> & <chr> & <dbl> & <dbl> & <dbl>\\\\\n",
       "\\hline\n",
       "\t1 & 1900-01-20 & 00:33:30 & 7.4 & 20.00 & -105.00 & 33.0 & 71 km al NOROESTE de AUTLAN DE NAVARRO, JAL & 1900-01-20 & 06:33:30 & revisado &  1 & 1900 & 1\\\\\n",
       "\t2 & 1900-05-16 & 14:12:00 & 6.9 & 20.00 & -105.00 & 33.0 & 71 km al NOROESTE de AUTLAN DE NAVARRO, JAL & 1900-05-16 & 20:12:00 & revisado &  5 & 1900 & 1\\\\\n",
       "\t3 & 1901-03-05 & 04:45:00 & 6.9 & 25.00 & -110.00 & 33.0 & 100 km al NORESTE de LA PAZ, BCS            & 1901-03-05 & 10:45:00 & revisado &  3 & 1901 & 1\\\\\n",
       "\t4 & 1901-12-08 & 20:17:00 & 7.0 & 26.00 & -110.00 & 33.0 & 83 km al OESTE de AHOME, SIN                & 1901-12-09 & 02:17:00 & revisado & 12 & 1901 & 1\\\\\n",
       "\t5 & 1902-01-16 & 17:19:00 & 7.0 & 17.62 &  -99.72 & 33.0 & 21 km al OESTE de ZUMPANGO DEL RIO, GRO     & 1902-01-16 & 23:19:00 & revisado &  1 & 1902 & 1\\\\\n",
       "\t6 & 1902-04-18 & 20:23:00 & 7.5 & 14.90 &  -91.50 & 25.0 & 72 km al ESTE de CACAHOATAN, CHIS           & 1902-04-19 & 02:23:00 & revisado &  4 & 1902 & 1\\\\\n",
       "\\end{tabular}\n"
      ],
      "text/markdown": [
       "\n",
       "A data.frame: 6 × 13\n",
       "\n",
       "| <!--/--> | Fecha &lt;chr&gt; | Hora &lt;chr&gt; | Magnitud &lt;dbl&gt; | Latitud &lt;dbl&gt; | Longitud &lt;dbl&gt; | Profundidad &lt;chr&gt; | Referencia.de.localizacion &lt;chr&gt; | Fecha.UTC &lt;chr&gt; | Hora.UTC &lt;chr&gt; | Estatus &lt;chr&gt; | MES &lt;dbl&gt; | AGNO &lt;dbl&gt; | dummy &lt;dbl&gt; |\n",
       "|---|---|---|---|---|---|---|---|---|---|---|---|---|---|\n",
       "| 1 | 1900-01-20 | 00:33:30 | 7.4 | 20.00 | -105.00 | 33.0 | 71 km al NOROESTE de AUTLAN DE NAVARRO, JAL | 1900-01-20 | 06:33:30 | revisado |  1 | 1900 | 1 |\n",
       "| 2 | 1900-05-16 | 14:12:00 | 6.9 | 20.00 | -105.00 | 33.0 | 71 km al NOROESTE de AUTLAN DE NAVARRO, JAL | 1900-05-16 | 20:12:00 | revisado |  5 | 1900 | 1 |\n",
       "| 3 | 1901-03-05 | 04:45:00 | 6.9 | 25.00 | -110.00 | 33.0 | 100 km al NORESTE de LA PAZ, BCS            | 1901-03-05 | 10:45:00 | revisado |  3 | 1901 | 1 |\n",
       "| 4 | 1901-12-08 | 20:17:00 | 7.0 | 26.00 | -110.00 | 33.0 | 83 km al OESTE de AHOME, SIN                | 1901-12-09 | 02:17:00 | revisado | 12 | 1901 | 1 |\n",
       "| 5 | 1902-01-16 | 17:19:00 | 7.0 | 17.62 |  -99.72 | 33.0 | 21 km al OESTE de ZUMPANGO DEL RIO, GRO     | 1902-01-16 | 23:19:00 | revisado |  1 | 1902 | 1 |\n",
       "| 6 | 1902-04-18 | 20:23:00 | 7.5 | 14.90 |  -91.50 | 25.0 | 72 km al ESTE de CACAHOATAN, CHIS           | 1902-04-19 | 02:23:00 | revisado |  4 | 1902 | 1 |\n",
       "\n"
      ],
      "text/plain": [
       "  Fecha      Hora     Magnitud Latitud Longitud Profundidad\n",
       "1 1900-01-20 00:33:30 7.4      20.00   -105.00  33.0       \n",
       "2 1900-05-16 14:12:00 6.9      20.00   -105.00  33.0       \n",
       "3 1901-03-05 04:45:00 6.9      25.00   -110.00  33.0       \n",
       "4 1901-12-08 20:17:00 7.0      26.00   -110.00  33.0       \n",
       "5 1902-01-16 17:19:00 7.0      17.62    -99.72  33.0       \n",
       "6 1902-04-18 20:23:00 7.5      14.90    -91.50  25.0       \n",
       "  Referencia.de.localizacion                  Fecha.UTC  Hora.UTC Estatus  MES\n",
       "1 71 km al NOROESTE de AUTLAN DE NAVARRO, JAL 1900-01-20 06:33:30 revisado  1 \n",
       "2 71 km al NOROESTE de AUTLAN DE NAVARRO, JAL 1900-05-16 20:12:00 revisado  5 \n",
       "3 100 km al NORESTE de LA PAZ, BCS            1901-03-05 10:45:00 revisado  3 \n",
       "4 83 km al OESTE de AHOME, SIN                1901-12-09 02:17:00 revisado 12 \n",
       "5 21 km al OESTE de ZUMPANGO DEL RIO, GRO     1902-01-16 23:19:00 revisado  1 \n",
       "6 72 km al ESTE de CACAHOATAN, CHIS           1902-04-19 02:23:00 revisado  4 \n",
       "  AGNO dummy\n",
       "1 1900 1    \n",
       "2 1900 1    \n",
       "3 1901 1    \n",
       "4 1901 1    \n",
       "5 1902 1    \n",
       "6 1902 1    "
      ]
     },
     "metadata": {},
     "output_type": "display_data"
    }
   ],
   "source": [
    "head(d)\n"
   ]
  },
  {
   "cell_type": "code",
   "execution_count": 57,
   "id": "b640a6d6",
   "metadata": {},
   "outputs": [
    {
     "data": {
      "text/html": [
       "<style>\n",
       ".list-inline {list-style: none; margin:0; padding: 0}\n",
       ".list-inline>li {display: inline-block}\n",
       ".list-inline>li:not(:last-child)::after {content: \"\\00b7\"; padding: 0 .5ex}\n",
       "</style>\n",
       "<ol class=list-inline><li>243247</li><li>13</li></ol>\n"
      ],
      "text/latex": [
       "\\begin{enumerate*}\n",
       "\\item 243247\n",
       "\\item 13\n",
       "\\end{enumerate*}\n"
      ],
      "text/markdown": [
       "1. 243247\n",
       "2. 13\n",
       "\n",
       "\n"
      ],
      "text/plain": [
       "[1] 243247     13"
      ]
     },
     "metadata": {},
     "output_type": "display_data"
    }
   ],
   "source": [
    "dim(d)"
   ]
  },
  {
   "cell_type": "code",
   "execution_count": 76,
   "id": "e797cabb",
   "metadata": {},
   "outputs": [],
   "source": [
    "d[,\"frecuencia\"] <- seq(from = 1,to = 1,length.out = dim(d)[1])"
   ]
  },
  {
   "cell_type": "code",
   "execution_count": 77,
   "id": "06d812dd",
   "metadata": {},
   "outputs": [
    {
     "data": {
      "text/html": [
       "<table class=\"dataframe\">\n",
       "<caption>A data.frame: 6 × 14</caption>\n",
       "<thead>\n",
       "\t<tr><th></th><th scope=col>Fecha</th><th scope=col>Hora</th><th scope=col>Magnitud</th><th scope=col>Latitud</th><th scope=col>Longitud</th><th scope=col>Profundidad</th><th scope=col>Referencia.de.localizacion</th><th scope=col>Fecha.UTC</th><th scope=col>Hora.UTC</th><th scope=col>Estatus</th><th scope=col>MES</th><th scope=col>AGNO</th><th scope=col>dummy</th><th scope=col>frecuencia</th></tr>\n",
       "\t<tr><th></th><th scope=col>&lt;chr&gt;</th><th scope=col>&lt;chr&gt;</th><th scope=col>&lt;dbl&gt;</th><th scope=col>&lt;dbl&gt;</th><th scope=col>&lt;dbl&gt;</th><th scope=col>&lt;chr&gt;</th><th scope=col>&lt;chr&gt;</th><th scope=col>&lt;chr&gt;</th><th scope=col>&lt;chr&gt;</th><th scope=col>&lt;chr&gt;</th><th scope=col>&lt;dbl&gt;</th><th scope=col>&lt;dbl&gt;</th><th scope=col>&lt;dbl&gt;</th><th scope=col>&lt;dbl&gt;</th></tr>\n",
       "</thead>\n",
       "<tbody>\n",
       "\t<tr><th scope=row>1</th><td>1900-01-20</td><td>00:33:30</td><td>7.4</td><td>20.00</td><td>-105.00</td><td>33.0</td><td>71 km al NOROESTE de AUTLAN DE NAVARRO, JAL</td><td>1900-01-20</td><td>06:33:30</td><td>revisado</td><td> 1</td><td>1900</td><td>1</td><td>1</td></tr>\n",
       "\t<tr><th scope=row>2</th><td>1900-05-16</td><td>14:12:00</td><td>6.9</td><td>20.00</td><td>-105.00</td><td>33.0</td><td>71 km al NOROESTE de AUTLAN DE NAVARRO, JAL</td><td>1900-05-16</td><td>20:12:00</td><td>revisado</td><td> 5</td><td>1900</td><td>1</td><td>1</td></tr>\n",
       "\t<tr><th scope=row>3</th><td>1901-03-05</td><td>04:45:00</td><td>6.9</td><td>25.00</td><td>-110.00</td><td>33.0</td><td>100 km al NORESTE de LA PAZ, BCS           </td><td>1901-03-05</td><td>10:45:00</td><td>revisado</td><td> 3</td><td>1901</td><td>1</td><td>1</td></tr>\n",
       "\t<tr><th scope=row>4</th><td>1901-12-08</td><td>20:17:00</td><td>7.0</td><td>26.00</td><td>-110.00</td><td>33.0</td><td>83 km al OESTE de AHOME, SIN               </td><td>1901-12-09</td><td>02:17:00</td><td>revisado</td><td>12</td><td>1901</td><td>1</td><td>1</td></tr>\n",
       "\t<tr><th scope=row>5</th><td>1902-01-16</td><td>17:19:00</td><td>7.0</td><td>17.62</td><td> -99.72</td><td>33.0</td><td>21 km al OESTE de ZUMPANGO DEL RIO, GRO    </td><td>1902-01-16</td><td>23:19:00</td><td>revisado</td><td> 1</td><td>1902</td><td>1</td><td>1</td></tr>\n",
       "\t<tr><th scope=row>6</th><td>1902-04-18</td><td>20:23:00</td><td>7.5</td><td>14.90</td><td> -91.50</td><td>25.0</td><td>72 km al ESTE de CACAHOATAN, CHIS          </td><td>1902-04-19</td><td>02:23:00</td><td>revisado</td><td> 4</td><td>1902</td><td>1</td><td>1</td></tr>\n",
       "</tbody>\n",
       "</table>\n"
      ],
      "text/latex": [
       "A data.frame: 6 × 14\n",
       "\\begin{tabular}{r|llllllllllllll}\n",
       "  & Fecha & Hora & Magnitud & Latitud & Longitud & Profundidad & Referencia.de.localizacion & Fecha.UTC & Hora.UTC & Estatus & MES & AGNO & dummy & frecuencia\\\\\n",
       "  & <chr> & <chr> & <dbl> & <dbl> & <dbl> & <chr> & <chr> & <chr> & <chr> & <chr> & <dbl> & <dbl> & <dbl> & <dbl>\\\\\n",
       "\\hline\n",
       "\t1 & 1900-01-20 & 00:33:30 & 7.4 & 20.00 & -105.00 & 33.0 & 71 km al NOROESTE de AUTLAN DE NAVARRO, JAL & 1900-01-20 & 06:33:30 & revisado &  1 & 1900 & 1 & 1\\\\\n",
       "\t2 & 1900-05-16 & 14:12:00 & 6.9 & 20.00 & -105.00 & 33.0 & 71 km al NOROESTE de AUTLAN DE NAVARRO, JAL & 1900-05-16 & 20:12:00 & revisado &  5 & 1900 & 1 & 1\\\\\n",
       "\t3 & 1901-03-05 & 04:45:00 & 6.9 & 25.00 & -110.00 & 33.0 & 100 km al NORESTE de LA PAZ, BCS            & 1901-03-05 & 10:45:00 & revisado &  3 & 1901 & 1 & 1\\\\\n",
       "\t4 & 1901-12-08 & 20:17:00 & 7.0 & 26.00 & -110.00 & 33.0 & 83 km al OESTE de AHOME, SIN                & 1901-12-09 & 02:17:00 & revisado & 12 & 1901 & 1 & 1\\\\\n",
       "\t5 & 1902-01-16 & 17:19:00 & 7.0 & 17.62 &  -99.72 & 33.0 & 21 km al OESTE de ZUMPANGO DEL RIO, GRO     & 1902-01-16 & 23:19:00 & revisado &  1 & 1902 & 1 & 1\\\\\n",
       "\t6 & 1902-04-18 & 20:23:00 & 7.5 & 14.90 &  -91.50 & 25.0 & 72 km al ESTE de CACAHOATAN, CHIS           & 1902-04-19 & 02:23:00 & revisado &  4 & 1902 & 1 & 1\\\\\n",
       "\\end{tabular}\n"
      ],
      "text/markdown": [
       "\n",
       "A data.frame: 6 × 14\n",
       "\n",
       "| <!--/--> | Fecha &lt;chr&gt; | Hora &lt;chr&gt; | Magnitud &lt;dbl&gt; | Latitud &lt;dbl&gt; | Longitud &lt;dbl&gt; | Profundidad &lt;chr&gt; | Referencia.de.localizacion &lt;chr&gt; | Fecha.UTC &lt;chr&gt; | Hora.UTC &lt;chr&gt; | Estatus &lt;chr&gt; | MES &lt;dbl&gt; | AGNO &lt;dbl&gt; | dummy &lt;dbl&gt; | frecuencia &lt;dbl&gt; |\n",
       "|---|---|---|---|---|---|---|---|---|---|---|---|---|---|---|\n",
       "| 1 | 1900-01-20 | 00:33:30 | 7.4 | 20.00 | -105.00 | 33.0 | 71 km al NOROESTE de AUTLAN DE NAVARRO, JAL | 1900-01-20 | 06:33:30 | revisado |  1 | 1900 | 1 | 1 |\n",
       "| 2 | 1900-05-16 | 14:12:00 | 6.9 | 20.00 | -105.00 | 33.0 | 71 km al NOROESTE de AUTLAN DE NAVARRO, JAL | 1900-05-16 | 20:12:00 | revisado |  5 | 1900 | 1 | 1 |\n",
       "| 3 | 1901-03-05 | 04:45:00 | 6.9 | 25.00 | -110.00 | 33.0 | 100 km al NORESTE de LA PAZ, BCS            | 1901-03-05 | 10:45:00 | revisado |  3 | 1901 | 1 | 1 |\n",
       "| 4 | 1901-12-08 | 20:17:00 | 7.0 | 26.00 | -110.00 | 33.0 | 83 km al OESTE de AHOME, SIN                | 1901-12-09 | 02:17:00 | revisado | 12 | 1901 | 1 | 1 |\n",
       "| 5 | 1902-01-16 | 17:19:00 | 7.0 | 17.62 |  -99.72 | 33.0 | 21 km al OESTE de ZUMPANGO DEL RIO, GRO     | 1902-01-16 | 23:19:00 | revisado |  1 | 1902 | 1 | 1 |\n",
       "| 6 | 1902-04-18 | 20:23:00 | 7.5 | 14.90 |  -91.50 | 25.0 | 72 km al ESTE de CACAHOATAN, CHIS           | 1902-04-19 | 02:23:00 | revisado |  4 | 1902 | 1 | 1 |\n",
       "\n"
      ],
      "text/plain": [
       "  Fecha      Hora     Magnitud Latitud Longitud Profundidad\n",
       "1 1900-01-20 00:33:30 7.4      20.00   -105.00  33.0       \n",
       "2 1900-05-16 14:12:00 6.9      20.00   -105.00  33.0       \n",
       "3 1901-03-05 04:45:00 6.9      25.00   -110.00  33.0       \n",
       "4 1901-12-08 20:17:00 7.0      26.00   -110.00  33.0       \n",
       "5 1902-01-16 17:19:00 7.0      17.62    -99.72  33.0       \n",
       "6 1902-04-18 20:23:00 7.5      14.90    -91.50  25.0       \n",
       "  Referencia.de.localizacion                  Fecha.UTC  Hora.UTC Estatus  MES\n",
       "1 71 km al NOROESTE de AUTLAN DE NAVARRO, JAL 1900-01-20 06:33:30 revisado  1 \n",
       "2 71 km al NOROESTE de AUTLAN DE NAVARRO, JAL 1900-05-16 20:12:00 revisado  5 \n",
       "3 100 km al NORESTE de LA PAZ, BCS            1901-03-05 10:45:00 revisado  3 \n",
       "4 83 km al OESTE de AHOME, SIN                1901-12-09 02:17:00 revisado 12 \n",
       "5 21 km al OESTE de ZUMPANGO DEL RIO, GRO     1902-01-16 23:19:00 revisado  1 \n",
       "6 72 km al ESTE de CACAHOATAN, CHIS           1902-04-19 02:23:00 revisado  4 \n",
       "  AGNO dummy frecuencia\n",
       "1 1900 1     1         \n",
       "2 1900 1     1         \n",
       "3 1901 1     1         \n",
       "4 1901 1     1         \n",
       "5 1902 1     1         \n",
       "6 1902 1     1         "
      ]
     },
     "metadata": {},
     "output_type": "display_data"
    }
   ],
   "source": [
    "head(d)"
   ]
  },
  {
   "cell_type": "code",
   "execution_count": 78,
   "id": "d9cb41dc",
   "metadata": {},
   "outputs": [
    {
     "data": {
      "text/html": [
       "<table class=\"dataframe\">\n",
       "<caption>A data.frame: 12 × 2</caption>\n",
       "<thead>\n",
       "\t<tr><th scope=col>d$MES</th><th scope=col>d$frecuencia</th></tr>\n",
       "\t<tr><th scope=col>&lt;dbl&gt;</th><th scope=col>&lt;dbl&gt;</th></tr>\n",
       "</thead>\n",
       "<tbody>\n",
       "\t<tr><td> 1</td><td>22590</td></tr>\n",
       "\t<tr><td> 2</td><td>22121</td></tr>\n",
       "\t<tr><td> 3</td><td>20460</td></tr>\n",
       "\t<tr><td> 4</td><td>19248</td></tr>\n",
       "\t<tr><td> 5</td><td>19093</td></tr>\n",
       "\t<tr><td> 6</td><td>19433</td></tr>\n",
       "\t<tr><td> 7</td><td>19028</td></tr>\n",
       "\t<tr><td> 8</td><td>18755</td></tr>\n",
       "\t<tr><td> 9</td><td>23307</td></tr>\n",
       "\t<tr><td>10</td><td>19444</td></tr>\n",
       "\t<tr><td>11</td><td>19601</td></tr>\n",
       "\t<tr><td>12</td><td>20167</td></tr>\n",
       "</tbody>\n",
       "</table>\n"
      ],
      "text/latex": [
       "A data.frame: 12 × 2\n",
       "\\begin{tabular}{ll}\n",
       " d\\$MES & d\\$frecuencia\\\\\n",
       " <dbl> & <dbl>\\\\\n",
       "\\hline\n",
       "\t  1 & 22590\\\\\n",
       "\t  2 & 22121\\\\\n",
       "\t  3 & 20460\\\\\n",
       "\t  4 & 19248\\\\\n",
       "\t  5 & 19093\\\\\n",
       "\t  6 & 19433\\\\\n",
       "\t  7 & 19028\\\\\n",
       "\t  8 & 18755\\\\\n",
       "\t  9 & 23307\\\\\n",
       "\t 10 & 19444\\\\\n",
       "\t 11 & 19601\\\\\n",
       "\t 12 & 20167\\\\\n",
       "\\end{tabular}\n"
      ],
      "text/markdown": [
       "\n",
       "A data.frame: 12 × 2\n",
       "\n",
       "| d$MES &lt;dbl&gt; | d$frecuencia &lt;dbl&gt; |\n",
       "|---|---|\n",
       "|  1 | 22590 |\n",
       "|  2 | 22121 |\n",
       "|  3 | 20460 |\n",
       "|  4 | 19248 |\n",
       "|  5 | 19093 |\n",
       "|  6 | 19433 |\n",
       "|  7 | 19028 |\n",
       "|  8 | 18755 |\n",
       "|  9 | 23307 |\n",
       "| 10 | 19444 |\n",
       "| 11 | 19601 |\n",
       "| 12 | 20167 |\n",
       "\n"
      ],
      "text/plain": [
       "   d$MES d$frecuencia\n",
       "1   1    22590       \n",
       "2   2    22121       \n",
       "3   3    20460       \n",
       "4   4    19248       \n",
       "5   5    19093       \n",
       "6   6    19433       \n",
       "7   7    19028       \n",
       "8   8    18755       \n",
       "9   9    23307       \n",
       "10 10    19444       \n",
       "11 11    19601       \n",
       "12 12    20167       "
      ]
     },
     "metadata": {},
     "output_type": "display_data"
    }
   ],
   "source": [
    "aggregate(d$frecuencia ~ d$MES,list(d$dummy),sum)"
   ]
  },
  {
   "cell_type": "code",
   "execution_count": 79,
   "id": "aec30359",
   "metadata": {},
   "outputs": [],
   "source": [
    "d$Magnitud <- as.double(d$Magnitud)"
   ]
  },
  {
   "cell_type": "code",
   "execution_count": 80,
   "id": "55948334",
   "metadata": {},
   "outputs": [],
   "source": [
    "d <- d[complete.cases(d),]"
   ]
  },
  {
   "cell_type": "code",
   "execution_count": 81,
   "id": "05c98b09",
   "metadata": {},
   "outputs": [
    {
     "data": {
      "text/html": [
       "<table class=\"dataframe\">\n",
       "<caption>A data.frame: 6 × 14</caption>\n",
       "<thead>\n",
       "\t<tr><th></th><th scope=col>Fecha</th><th scope=col>Hora</th><th scope=col>Magnitud</th><th scope=col>Latitud</th><th scope=col>Longitud</th><th scope=col>Profundidad</th><th scope=col>Referencia.de.localizacion</th><th scope=col>Fecha.UTC</th><th scope=col>Hora.UTC</th><th scope=col>Estatus</th><th scope=col>MES</th><th scope=col>AGNO</th><th scope=col>dummy</th><th scope=col>frecuencia</th></tr>\n",
       "\t<tr><th></th><th scope=col>&lt;chr&gt;</th><th scope=col>&lt;chr&gt;</th><th scope=col>&lt;dbl&gt;</th><th scope=col>&lt;dbl&gt;</th><th scope=col>&lt;dbl&gt;</th><th scope=col>&lt;chr&gt;</th><th scope=col>&lt;chr&gt;</th><th scope=col>&lt;chr&gt;</th><th scope=col>&lt;chr&gt;</th><th scope=col>&lt;chr&gt;</th><th scope=col>&lt;dbl&gt;</th><th scope=col>&lt;dbl&gt;</th><th scope=col>&lt;dbl&gt;</th><th scope=col>&lt;dbl&gt;</th></tr>\n",
       "</thead>\n",
       "<tbody>\n",
       "\t<tr><th scope=row>1</th><td>1900-01-20</td><td>00:33:30</td><td>7.4</td><td>20.00</td><td>-105.00</td><td>33.0</td><td>71 km al NOROESTE de AUTLAN DE NAVARRO, JAL</td><td>1900-01-20</td><td>06:33:30</td><td>revisado</td><td> 1</td><td>1900</td><td>1</td><td>1</td></tr>\n",
       "\t<tr><th scope=row>2</th><td>1900-05-16</td><td>14:12:00</td><td>6.9</td><td>20.00</td><td>-105.00</td><td>33.0</td><td>71 km al NOROESTE de AUTLAN DE NAVARRO, JAL</td><td>1900-05-16</td><td>20:12:00</td><td>revisado</td><td> 5</td><td>1900</td><td>1</td><td>1</td></tr>\n",
       "\t<tr><th scope=row>3</th><td>1901-03-05</td><td>04:45:00</td><td>6.9</td><td>25.00</td><td>-110.00</td><td>33.0</td><td>100 km al NORESTE de LA PAZ, BCS           </td><td>1901-03-05</td><td>10:45:00</td><td>revisado</td><td> 3</td><td>1901</td><td>1</td><td>1</td></tr>\n",
       "\t<tr><th scope=row>4</th><td>1901-12-08</td><td>20:17:00</td><td>7.0</td><td>26.00</td><td>-110.00</td><td>33.0</td><td>83 km al OESTE de AHOME, SIN               </td><td>1901-12-09</td><td>02:17:00</td><td>revisado</td><td>12</td><td>1901</td><td>1</td><td>1</td></tr>\n",
       "\t<tr><th scope=row>5</th><td>1902-01-16</td><td>17:19:00</td><td>7.0</td><td>17.62</td><td> -99.72</td><td>33.0</td><td>21 km al OESTE de ZUMPANGO DEL RIO, GRO    </td><td>1902-01-16</td><td>23:19:00</td><td>revisado</td><td> 1</td><td>1902</td><td>1</td><td>1</td></tr>\n",
       "\t<tr><th scope=row>6</th><td>1902-04-18</td><td>20:23:00</td><td>7.5</td><td>14.90</td><td> -91.50</td><td>25.0</td><td>72 km al ESTE de CACAHOATAN, CHIS          </td><td>1902-04-19</td><td>02:23:00</td><td>revisado</td><td> 4</td><td>1902</td><td>1</td><td>1</td></tr>\n",
       "</tbody>\n",
       "</table>\n"
      ],
      "text/latex": [
       "A data.frame: 6 × 14\n",
       "\\begin{tabular}{r|llllllllllllll}\n",
       "  & Fecha & Hora & Magnitud & Latitud & Longitud & Profundidad & Referencia.de.localizacion & Fecha.UTC & Hora.UTC & Estatus & MES & AGNO & dummy & frecuencia\\\\\n",
       "  & <chr> & <chr> & <dbl> & <dbl> & <dbl> & <chr> & <chr> & <chr> & <chr> & <chr> & <dbl> & <dbl> & <dbl> & <dbl>\\\\\n",
       "\\hline\n",
       "\t1 & 1900-01-20 & 00:33:30 & 7.4 & 20.00 & -105.00 & 33.0 & 71 km al NOROESTE de AUTLAN DE NAVARRO, JAL & 1900-01-20 & 06:33:30 & revisado &  1 & 1900 & 1 & 1\\\\\n",
       "\t2 & 1900-05-16 & 14:12:00 & 6.9 & 20.00 & -105.00 & 33.0 & 71 km al NOROESTE de AUTLAN DE NAVARRO, JAL & 1900-05-16 & 20:12:00 & revisado &  5 & 1900 & 1 & 1\\\\\n",
       "\t3 & 1901-03-05 & 04:45:00 & 6.9 & 25.00 & -110.00 & 33.0 & 100 km al NORESTE de LA PAZ, BCS            & 1901-03-05 & 10:45:00 & revisado &  3 & 1901 & 1 & 1\\\\\n",
       "\t4 & 1901-12-08 & 20:17:00 & 7.0 & 26.00 & -110.00 & 33.0 & 83 km al OESTE de AHOME, SIN                & 1901-12-09 & 02:17:00 & revisado & 12 & 1901 & 1 & 1\\\\\n",
       "\t5 & 1902-01-16 & 17:19:00 & 7.0 & 17.62 &  -99.72 & 33.0 & 21 km al OESTE de ZUMPANGO DEL RIO, GRO     & 1902-01-16 & 23:19:00 & revisado &  1 & 1902 & 1 & 1\\\\\n",
       "\t6 & 1902-04-18 & 20:23:00 & 7.5 & 14.90 &  -91.50 & 25.0 & 72 km al ESTE de CACAHOATAN, CHIS           & 1902-04-19 & 02:23:00 & revisado &  4 & 1902 & 1 & 1\\\\\n",
       "\\end{tabular}\n"
      ],
      "text/markdown": [
       "\n",
       "A data.frame: 6 × 14\n",
       "\n",
       "| <!--/--> | Fecha &lt;chr&gt; | Hora &lt;chr&gt; | Magnitud &lt;dbl&gt; | Latitud &lt;dbl&gt; | Longitud &lt;dbl&gt; | Profundidad &lt;chr&gt; | Referencia.de.localizacion &lt;chr&gt; | Fecha.UTC &lt;chr&gt; | Hora.UTC &lt;chr&gt; | Estatus &lt;chr&gt; | MES &lt;dbl&gt; | AGNO &lt;dbl&gt; | dummy &lt;dbl&gt; | frecuencia &lt;dbl&gt; |\n",
       "|---|---|---|---|---|---|---|---|---|---|---|---|---|---|---|\n",
       "| 1 | 1900-01-20 | 00:33:30 | 7.4 | 20.00 | -105.00 | 33.0 | 71 km al NOROESTE de AUTLAN DE NAVARRO, JAL | 1900-01-20 | 06:33:30 | revisado |  1 | 1900 | 1 | 1 |\n",
       "| 2 | 1900-05-16 | 14:12:00 | 6.9 | 20.00 | -105.00 | 33.0 | 71 km al NOROESTE de AUTLAN DE NAVARRO, JAL | 1900-05-16 | 20:12:00 | revisado |  5 | 1900 | 1 | 1 |\n",
       "| 3 | 1901-03-05 | 04:45:00 | 6.9 | 25.00 | -110.00 | 33.0 | 100 km al NORESTE de LA PAZ, BCS            | 1901-03-05 | 10:45:00 | revisado |  3 | 1901 | 1 | 1 |\n",
       "| 4 | 1901-12-08 | 20:17:00 | 7.0 | 26.00 | -110.00 | 33.0 | 83 km al OESTE de AHOME, SIN                | 1901-12-09 | 02:17:00 | revisado | 12 | 1901 | 1 | 1 |\n",
       "| 5 | 1902-01-16 | 17:19:00 | 7.0 | 17.62 |  -99.72 | 33.0 | 21 km al OESTE de ZUMPANGO DEL RIO, GRO     | 1902-01-16 | 23:19:00 | revisado |  1 | 1902 | 1 | 1 |\n",
       "| 6 | 1902-04-18 | 20:23:00 | 7.5 | 14.90 |  -91.50 | 25.0 | 72 km al ESTE de CACAHOATAN, CHIS           | 1902-04-19 | 02:23:00 | revisado |  4 | 1902 | 1 | 1 |\n",
       "\n"
      ],
      "text/plain": [
       "  Fecha      Hora     Magnitud Latitud Longitud Profundidad\n",
       "1 1900-01-20 00:33:30 7.4      20.00   -105.00  33.0       \n",
       "2 1900-05-16 14:12:00 6.9      20.00   -105.00  33.0       \n",
       "3 1901-03-05 04:45:00 6.9      25.00   -110.00  33.0       \n",
       "4 1901-12-08 20:17:00 7.0      26.00   -110.00  33.0       \n",
       "5 1902-01-16 17:19:00 7.0      17.62    -99.72  33.0       \n",
       "6 1902-04-18 20:23:00 7.5      14.90    -91.50  25.0       \n",
       "  Referencia.de.localizacion                  Fecha.UTC  Hora.UTC Estatus  MES\n",
       "1 71 km al NOROESTE de AUTLAN DE NAVARRO, JAL 1900-01-20 06:33:30 revisado  1 \n",
       "2 71 km al NOROESTE de AUTLAN DE NAVARRO, JAL 1900-05-16 20:12:00 revisado  5 \n",
       "3 100 km al NORESTE de LA PAZ, BCS            1901-03-05 10:45:00 revisado  3 \n",
       "4 83 km al OESTE de AHOME, SIN                1901-12-09 02:17:00 revisado 12 \n",
       "5 21 km al OESTE de ZUMPANGO DEL RIO, GRO     1902-01-16 23:19:00 revisado  1 \n",
       "6 72 km al ESTE de CACAHOATAN, CHIS           1902-04-19 02:23:00 revisado  4 \n",
       "  AGNO dummy frecuencia\n",
       "1 1900 1     1         \n",
       "2 1900 1     1         \n",
       "3 1901 1     1         \n",
       "4 1901 1     1         \n",
       "5 1902 1     1         \n",
       "6 1902 1     1         "
      ]
     },
     "metadata": {},
     "output_type": "display_data"
    }
   ],
   "source": [
    "head(d)"
   ]
  },
  {
   "cell_type": "code",
   "execution_count": 82,
   "id": "c3b4a97f",
   "metadata": {},
   "outputs": [
    {
     "data": {
      "text/html": [
       "<style>\n",
       ".list-inline {list-style: none; margin:0; padding: 0}\n",
       ".list-inline>li {display: inline-block}\n",
       ".list-inline>li:not(:last-child)::after {content: \"\\00b7\"; padding: 0 .5ex}\n",
       "</style>\n",
       "<ol class=list-inline><li>243247</li><li>14</li></ol>\n"
      ],
      "text/latex": [
       "\\begin{enumerate*}\n",
       "\\item 243247\n",
       "\\item 14\n",
       "\\end{enumerate*}\n"
      ],
      "text/markdown": [
       "1. 243247\n",
       "2. 14\n",
       "\n",
       "\n"
      ],
      "text/plain": [
       "[1] 243247     14"
      ]
     },
     "metadata": {},
     "output_type": "display_data"
    }
   ],
   "source": [
    "dim(d)"
   ]
  },
  {
   "cell_type": "code",
   "execution_count": 83,
   "id": "80bf4ca2",
   "metadata": {},
   "outputs": [],
   "source": [
    "dd <-  d[ d$Magnitud > 7, ]"
   ]
  },
  {
   "cell_type": "code",
   "execution_count": 84,
   "id": "e9a7adc8",
   "metadata": {},
   "outputs": [
    {
     "data": {
      "text/html": [
       "<style>\n",
       ".list-inline {list-style: none; margin:0; padding: 0}\n",
       ".list-inline>li {display: inline-block}\n",
       ".list-inline>li:not(:last-child)::after {content: \"\\00b7\"; padding: 0 .5ex}\n",
       "</style>\n",
       "<ol class=list-inline><li>68</li><li>14</li></ol>\n"
      ],
      "text/latex": [
       "\\begin{enumerate*}\n",
       "\\item 68\n",
       "\\item 14\n",
       "\\end{enumerate*}\n"
      ],
      "text/markdown": [
       "1. 68\n",
       "2. 14\n",
       "\n",
       "\n"
      ],
      "text/plain": [
       "[1] 68 14"
      ]
     },
     "metadata": {},
     "output_type": "display_data"
    }
   ],
   "source": [
    "dim(dd)"
   ]
  },
  {
   "cell_type": "code",
   "execution_count": 86,
   "id": "f42258e5",
   "metadata": {},
   "outputs": [],
   "source": [
    "t <- aggregate(dd$frecuencia ~ dd$MES,list(dd$frecuencia),sum)"
   ]
  },
  {
   "cell_type": "code",
   "execution_count": 87,
   "id": "7885d895",
   "metadata": {},
   "outputs": [
    {
     "data": {
      "text/html": [
       "<table class=\"dataframe\">\n",
       "<caption>A data.frame: 12 × 2</caption>\n",
       "<thead>\n",
       "\t<tr><th scope=col>dd$MES</th><th scope=col>dd$frecuencia</th></tr>\n",
       "\t<tr><th scope=col>&lt;dbl&gt;</th><th scope=col>&lt;dbl&gt;</th></tr>\n",
       "</thead>\n",
       "<tbody>\n",
       "\t<tr><td> 1</td><td> 6</td></tr>\n",
       "\t<tr><td> 2</td><td> 5</td></tr>\n",
       "\t<tr><td> 3</td><td> 5</td></tr>\n",
       "\t<tr><td> 4</td><td> 7</td></tr>\n",
       "\t<tr><td> 5</td><td> 2</td></tr>\n",
       "\t<tr><td> 6</td><td> 7</td></tr>\n",
       "\t<tr><td> 7</td><td> 4</td></tr>\n",
       "\t<tr><td> 8</td><td> 5</td></tr>\n",
       "\t<tr><td> 9</td><td>11</td></tr>\n",
       "\t<tr><td>10</td><td> 7</td></tr>\n",
       "\t<tr><td>11</td><td> 2</td></tr>\n",
       "\t<tr><td>12</td><td> 7</td></tr>\n",
       "</tbody>\n",
       "</table>\n"
      ],
      "text/latex": [
       "A data.frame: 12 × 2\n",
       "\\begin{tabular}{ll}\n",
       " dd\\$MES & dd\\$frecuencia\\\\\n",
       " <dbl> & <dbl>\\\\\n",
       "\\hline\n",
       "\t  1 &  6\\\\\n",
       "\t  2 &  5\\\\\n",
       "\t  3 &  5\\\\\n",
       "\t  4 &  7\\\\\n",
       "\t  5 &  2\\\\\n",
       "\t  6 &  7\\\\\n",
       "\t  7 &  4\\\\\n",
       "\t  8 &  5\\\\\n",
       "\t  9 & 11\\\\\n",
       "\t 10 &  7\\\\\n",
       "\t 11 &  2\\\\\n",
       "\t 12 &  7\\\\\n",
       "\\end{tabular}\n"
      ],
      "text/markdown": [
       "\n",
       "A data.frame: 12 × 2\n",
       "\n",
       "| dd$MES &lt;dbl&gt; | dd$frecuencia &lt;dbl&gt; |\n",
       "|---|---|\n",
       "|  1 |  6 |\n",
       "|  2 |  5 |\n",
       "|  3 |  5 |\n",
       "|  4 |  7 |\n",
       "|  5 |  2 |\n",
       "|  6 |  7 |\n",
       "|  7 |  4 |\n",
       "|  8 |  5 |\n",
       "|  9 | 11 |\n",
       "| 10 |  7 |\n",
       "| 11 |  2 |\n",
       "| 12 |  7 |\n",
       "\n"
      ],
      "text/plain": [
       "   dd$MES dd$frecuencia\n",
       "1   1      6           \n",
       "2   2      5           \n",
       "3   3      5           \n",
       "4   4      7           \n",
       "5   5      2           \n",
       "6   6      7           \n",
       "7   7      4           \n",
       "8   8      5           \n",
       "9   9     11           \n",
       "10 10      7           \n",
       "11 11      2           \n",
       "12 12      7           "
      ]
     },
     "metadata": {},
     "output_type": "display_data"
    }
   ],
   "source": [
    "t"
   ]
  },
  {
   "cell_type": "code",
   "execution_count": 104,
   "id": "3b76b4d4",
   "metadata": {},
   "outputs": [
    {
     "data": {
      "image/png": "[encoded data removed]",
      "text/plain": [
       "Plot with title “Sismos Magnitud>7 1900-2022”"
      ]
     },
     "metadata": {
      "image/png": {
       "height": 420,
       "width": 420
      }
     },
     "output_type": "display_data"
    }
   ],
   "source": [
    "barplot(t[,2],names.arg = t[,1],xlab=\"mes\",ylim=c(0,12),main=\"Sismos Magnitud>7 1900-2022\",ylab=\"frecuencia\")\n",
    "grid()"
   ]
  },
  {
   "cell_type": "code",
   "execution_count": 105,
   "id": "fa1dd863",
   "metadata": {},
   "outputs": [
    {
     "data": {
      "text/plain": [
       "   Min. 1st Qu.  Median    Mean 3rd Qu.    Max. \n",
       "  2.000   4.750   5.500   5.667   7.000  11.000 "
      ]
     },
     "metadata": {},
     "output_type": "display_data"
    }
   ],
   "source": [
    "summary(t[,2])"
   ]
  },
  {
   "cell_type": "code",
   "execution_count": 107,
   "id": "c836ac8d",
   "metadata": {},
   "outputs": [
    {
     "data": {
      "text/html": [
       "6.06060606060606"
      ],
      "text/latex": [
       "6.06060606060606"
      ],
      "text/markdown": [
       "6.06060606060606"
      ],
      "text/plain": [
       "[1] 6.060606"
      ]
     },
     "metadata": {},
     "output_type": "display_data"
    }
   ],
   "source": [
    "var(t[,2])"
   ]
  },
  {
   "cell_type": "code",
   "execution_count": null,
   "id": "4e81cf72",
   "metadata": {},
   "outputs": [],
   "source": []
  },
  {
   "cell_type": "code",
   "execution_count": null,
   "id": "26168db3",
   "metadata": {},
   "outputs": [],
   "source": []
  }
 ],
 "metadata": {
  "kernelspec": {
   "display_name": "R",
   "language": "R",
   "name": "ir"
  },
  "language_info": {
   "codemirror_mode": "r",
   "file_extension": ".r",
   "mimetype": "text/x-r-source",
   "name": "R",
   "pygments_lexer": "r",
   "version": "4.2.0"
  }
 },
 "nbformat": 4,
 "nbformat_minor": 5
}
